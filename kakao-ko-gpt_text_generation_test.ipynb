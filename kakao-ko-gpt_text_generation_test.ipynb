{
 "cells": [
  {
   "cell_type": "code",
   "execution_count": 8,
   "id": "10ad6ab2-0b69-4e3f-9e9f-e18a22057f89",
   "metadata": {},
   "outputs": [],
   "source": [
    "#====================================================================================================\n",
    "# kakao Ko-GPT Text Generation 예제 \n",
    "# => https://huggingface.co/kakaobrain/kogpt\n",
    "# => 여기서는 kakao브레인이 2021년에 공개한 한국형 GPT-2 Ko-GPT 모델 중, 그나마 실횅하는데, GPU 메모리\n",
    "# 를 덜 소모하는, [KoGPT6B-ryan1.5b-float16] 모델에 대해 Text Generation 하는 예제임.\n",
    "# => 모델 size : 11gybte, vocab: 63,998 개, GPU 메모리 사용량 : 13.9G, 파라메터 :6,166,502,400(6.16B)개\n",
    "# => 모델 로딩에 5분정도 걸리는것 같음\n",
    "#====================================================================================================\n",
    "import torch\n",
    "from transformers import GPT2LMHeadModel, PreTrainedTokenizerFast, GPT2TokenizerFast, AutoTokenizer, AutoModelForCausalLM\n",
    "\n",
    "model_path='../model/gpt-2/kakao-kogpt-float16'\n",
    "#model_path='skt/kogpt2-base-v2'\n",
    "device = torch.device(\"cuda:0\")"
   ]
  },
  {
   "cell_type": "code",
   "execution_count": 6,
   "id": "6161f3f8-4e74-4ec3-9c21-d912f7d0605c",
   "metadata": {},
   "outputs": [
    {
     "data": {
      "text/plain": [
       "['ìķĪëħķ',\n",
       " 'íķĺ',\n",
       " 'ìĦ¸ìļĶ',\n",
       " '.',\n",
       " 'ĠíķľêµŃìĸ´',\n",
       " 'ĠGP',\n",
       " 'T',\n",
       " '-',\n",
       " '2',\n",
       " 'ĠìŀħëĭĪëĭ¤',\n",
       " '.']"
      ]
     },
     "execution_count": 6,
     "metadata": {},
     "output_type": "execute_result"
    }
   ],
   "source": [
    "# tokenizer 실행\n",
    "tokenizer = AutoTokenizer.from_pretrained(model_path,\n",
    "                                                   bos_token='[BOS]',\n",
    "                                                   eos_token='[EOS]',\n",
    "                                                   unk_token='[UNK]',\n",
    "                                                   pad_token='[PAD]',\n",
    "                                                   mask_token='[MASK]')\n",
    "\n",
    "tokenizer.tokenize(\"안녕하세요. 한국어 GPT-2 입니다.\")\n"
   ]
  },
  {
   "cell_type": "code",
   "execution_count": 17,
   "id": "cd14ac12-35ea-4c63-bec6-b3be7133d3d1",
   "metadata": {},
   "outputs": [
    {
     "name": "stdout",
     "output_type": "stream",
     "text": [
      "63998\n"
     ]
    }
   ],
   "source": [
    "print(len(tokenizer))"
   ]
  },
  {
   "cell_type": "code",
   "execution_count": 9,
   "id": "b2aa374a-1dd2-48ad-8c67-424e7b5b8eec",
   "metadata": {},
   "outputs": [],
   "source": [
    "# 모델 실행\n",
    "model = AutoModelForCausalLM.from_pretrained(\n",
    "  model_path, revision='KoGPT6B-ryan1.5b-float16',  # or float32 version: revision=KoGPT6B-ryan1.5b\n",
    "  pad_token_id=tokenizer.eos_token_id,\n",
    "  torch_dtype='auto', low_cpu_mem_usage=True\n",
    ").to(device=device, non_blocking=True)\n",
    "\n",
    "_ = model.eval()"
   ]
  },
  {
   "cell_type": "code",
   "execution_count": 10,
   "id": "6967b4d9-7031-4d26-9343-727b46fcaf97",
   "metadata": {},
   "outputs": [
    {
     "data": {
      "text/plain": [
       "6166502400"
      ]
     },
     "execution_count": 10,
     "metadata": {},
     "output_type": "execute_result"
    }
   ],
   "source": [
    "model.num_parameters()"
   ]
  },
  {
   "cell_type": "code",
   "execution_count": 15,
   "id": "26eae550-5d76-4eff-a95e-cc1d454e2542",
   "metadata": {},
   "outputs": [
    {
     "name": "stdout",
     "output_type": "stream",
     "text": [
      "오늘은 그동안 미뤄왔던 #바디쉐이퍼 라는 제품을 리뷰해볼까 하는데요 ​ ​ ​ ​ 원래 이 제품이 처음 출시되었을 때 제가 너무 좋아해서 리뷰를 여러개 했었는데(지금도 하고 있고요) ​ ​ ​ ​ 그 제품이 지금은 단종되\n"
     ]
    }
   ],
   "source": [
    "# text generate 실행\n",
    "prompt = '오늘'\n",
    "with torch.no_grad():\n",
    "  tokens = tokenizer.encode(prompt, return_tensors='pt').to(device=device, non_blocking=True)\n",
    "  gen_tokens = model.generate(tokens, do_sample=True, temperature=0.8, max_length=64)\n",
    "  generated = tokenizer.batch_decode(gen_tokens)[0]\n",
    "  \n",
    "print(generated)"
   ]
  },
  {
   "cell_type": "code",
   "execution_count": null,
   "id": "403456bc-c5a2-4ed0-ab9a-e595d9ce156a",
   "metadata": {},
   "outputs": [],
   "source": []
  },
  {
   "cell_type": "code",
   "execution_count": null,
   "id": "7b5c0de3-6dcf-463f-be86-c77b992198d2",
   "metadata": {},
   "outputs": [],
   "source": []
  }
 ],
 "metadata": {
  "kernelspec": {
   "display_name": "Python 3 (ipykernel)",
   "language": "python",
   "name": "python3"
  },
  "language_info": {
   "codemirror_mode": {
    "name": "ipython",
    "version": 3
   },
   "file_extension": ".py",
   "mimetype": "text/x-python",
   "name": "python",
   "nbconvert_exporter": "python",
   "pygments_lexer": "ipython3",
   "version": "3.9.7"
  }
 },
 "nbformat": 4,
 "nbformat_minor": 5
}
